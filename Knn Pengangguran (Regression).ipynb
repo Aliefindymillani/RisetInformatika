{
  "nbformat": 4,
  "nbformat_minor": 0,
  "metadata": {
    "colab": {
      "provenance": []
    },
    "kernelspec": {
      "name": "python3",
      "display_name": "Python 3"
    },
    "language_info": {
      "name": "python"
    }
  },
  "cells": [
    {
      "cell_type": "code",
      "execution_count": 14,
      "metadata": {
        "colab": {
          "base_uri": "https://localhost:8080/"
        },
        "id": "JnwsP7Pf8rqo",
        "outputId": "5feb5408-e193-4b8a-ab6d-55030120bdee"
      },
      "outputs": [
        {
          "output_type": "stream",
          "name": "stdout",
          "text": [
            "Mean Squared Error: 1.8058721904761905\n"
          ]
        }
      ],
      "source": [
        "import pandas as pd\n",
        "from sklearn.model_selection import train_test_split\n",
        "from sklearn.neighbors import KNeighborsRegressor\n",
        "from sklearn.metrics import mean_squared_error\n",
        "from sklearn.preprocessing import StandardScaler\n",
        "\n",
        "# Load the dataset\n",
        "df = pd.read_csv('/content/DatasetPengangguran.csv',sep=\";\")\n",
        "\n",
        "\n",
        "# Drop 'Provinsi' column\n",
        "df = df.drop(columns=['Provinsi'])\n",
        "\n",
        "# Define features (X) and target variable (y)\n",
        "X = df.drop(columns=['Pengangguran'])\n",
        "y = df['Pengangguran']\n",
        "\n",
        "# Split the dataset into training and testing sets\n",
        "X_train, X_test, y_train, y_test = train_test_split(X, y, test_size=0.2, random_state=42)\n",
        "\n",
        "# Standardize the features using StandardScaler\n",
        "scaler = StandardScaler()\n",
        "X_train_scaled = scaler.fit_transform(X_train)\n",
        "X_test_scaled = scaler.transform(X_test)\n",
        "\n",
        "# Initialize KNN regressor\n",
        "k_neighbors = 5  # You can adjust this parameter\n",
        "knn_regressor = KNeighborsRegressor(n_neighbors=k_neighbors)\n",
        "\n",
        "# Fit the model\n",
        "knn_regressor.fit(X_train_scaled, y_train)\n",
        "\n",
        "# Make predictions\n",
        "y_pred = knn_regressor.predict(X_test_scaled)\n",
        "\n",
        "# Evaluate the model\n",
        "mse = mean_squared_error(y_test, y_pred)\n",
        "print(f'Mean Squared Error: {mse}')\n",
        "\n",
        "# You can now use the trained model (knn_regressor) to make predictions on new data.\n"
      ]
    },
    {
      "cell_type": "code",
      "source": [],
      "metadata": {
        "colab": {
          "base_uri": "https://localhost:8080/"
        },
        "id": "7UpfUudV9wJS",
        "outputId": "36fd7810-ebb0-44f4-ab42-33fa35c7d7b8"
      },
      "execution_count": 20,
      "outputs": [
        {
          "output_type": "stream",
          "name": "stdout",
          "text": [
            "Best Hyperparameters: {'C': 10, 'epsilon': 0.001, 'gamma': 'scale', 'kernel': 'rbf'}\n",
            "Mean Squared Error: 1.9409550661450634\n"
          ]
        }
      ]
    }
  ]
}